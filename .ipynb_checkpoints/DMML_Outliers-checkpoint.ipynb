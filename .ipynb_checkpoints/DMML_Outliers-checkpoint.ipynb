{
 "cells": [
  {
   "cell_type": "markdown",
   "id": "65c45eaa",
   "metadata": {},
   "source": [
    "## Import and Packages"
   ]
  },
  {
   "cell_type": "code",
   "execution_count": 1,
   "id": "fe2061ac",
   "metadata": {},
   "outputs": [],
   "source": [
    "import matplotlib.pyplot as plt\n",
    "import numpy as np\n",
    "import pandas as pd\n",
    "\n",
    "%matplotlib inline"
   ]
  },
  {
   "cell_type": "markdown",
   "id": "2e72a797",
   "metadata": {},
   "source": [
    "## The Codes\n",
    " Univariate Outlier Detection by Boxplot"
   ]
  },
  {
   "cell_type": "code",
   "execution_count": 2,
   "id": "1358cda6",
   "metadata": {},
   "outputs": [
    {
     "data": {
      "text/plain": [
       "array([ 0.05470514, -0.24452099,  1.37725856, -0.05892993, -1.06317078,\n",
       "        0.38368964,  0.50385162,  2.17057397, -1.77952318, -0.4344704 ,\n",
       "       -1.11740575,  1.11150183,  0.22128909,  1.05561526, -0.33472879,\n",
       "        0.79941599,  1.10142096,  1.4890497 ,  2.35814318, -1.06854412,\n",
       "       -0.40418227,  0.43028962,  0.08336649, -0.975214  ,  0.09897635,\n",
       "       -0.37081237, -0.12310292, -0.22713113, -1.8414438 ,  0.69699936,\n",
       "       -0.50578669,  0.53956505,  0.67146978,  1.43587096,  0.8069125 ,\n",
       "       -0.07616631, -1.32311973, -0.84148829, -0.29188396, -2.5158868 ,\n",
       "       -0.46474651, -0.06890873,  0.39102757, -1.84692731, -0.4344938 ,\n",
       "       -0.82951434,  0.07913429, -0.60321492, -0.98983963, -1.54805093,\n",
       "        0.10638442, -0.53028062,  1.26266411,  0.36759895, -0.33878234,\n",
       "       -1.07717943,  0.16496599, -0.94133616, -0.93573774,  0.15730007,\n",
       "        1.05259561, -0.12926108,  0.67318885, -1.36638314, -0.33537588,\n",
       "       -0.80856414,  0.89753527,  0.12232877,  0.12109866,  0.08817942,\n",
       "        0.71710997, -0.34194064, -1.50604069,  1.18083672, -0.08592675,\n",
       "       -1.53605651,  0.17581172, -1.22864509, -0.32115727,  1.20265377,\n",
       "        0.0514029 , -0.97544662, -0.62322466, -0.22089815,  0.68934793,\n",
       "       -0.74914861,  0.74136314, -0.2233895 , -0.31336792,  1.91603479,\n",
       "        0.39281589,  0.56086123,  0.63196394, -0.19947647, -0.38543908,\n",
       "        0.49439526, -0.44337144, -1.69674634,  0.15951616,  1.52376659])"
      ]
     },
     "execution_count": 2,
     "metadata": {},
     "output_type": "execute_result"
    }
   ],
   "source": [
    "x = np.random.seed(3147)\n",
    "# x = np.random.randint(low = 1, high = 10, size = 100)\n",
    "x = np.random.normal(0,1,100)\n",
    "x"
   ]
  },
  {
   "cell_type": "code",
   "execution_count": 3,
   "id": "5a07e07f",
   "metadata": {},
   "outputs": [
    {
     "data": {
      "text/html": [
       "<div>\n",
       "<style scoped>\n",
       "    .dataframe tbody tr th:only-of-type {\n",
       "        vertical-align: middle;\n",
       "    }\n",
       "\n",
       "    .dataframe tbody tr th {\n",
       "        vertical-align: top;\n",
       "    }\n",
       "\n",
       "    .dataframe thead th {\n",
       "        text-align: right;\n",
       "    }\n",
       "</style>\n",
       "<table border=\"1\" class=\"dataframe\">\n",
       "  <thead>\n",
       "    <tr style=\"text-align: right;\">\n",
       "      <th></th>\n",
       "      <th>0</th>\n",
       "    </tr>\n",
       "  </thead>\n",
       "  <tbody>\n",
       "    <tr>\n",
       "      <th>0</th>\n",
       "      <td>0.054705</td>\n",
       "    </tr>\n",
       "    <tr>\n",
       "      <th>1</th>\n",
       "      <td>-0.244521</td>\n",
       "    </tr>\n",
       "    <tr>\n",
       "      <th>2</th>\n",
       "      <td>1.377259</td>\n",
       "    </tr>\n",
       "    <tr>\n",
       "      <th>3</th>\n",
       "      <td>-0.058930</td>\n",
       "    </tr>\n",
       "    <tr>\n",
       "      <th>4</th>\n",
       "      <td>-1.063171</td>\n",
       "    </tr>\n",
       "  </tbody>\n",
       "</table>\n",
       "</div>"
      ],
      "text/plain": [
       "          0\n",
       "0  0.054705\n",
       "1 -0.244521\n",
       "2  1.377259\n",
       "3 -0.058930\n",
       "4 -1.063171"
      ]
     },
     "execution_count": 3,
     "metadata": {},
     "output_type": "execute_result"
    }
   ],
   "source": [
    "x_df = pd.DataFrame(x)\n",
    "x_df.head()"
   ]
  },
  {
   "cell_type": "code",
   "execution_count": 4,
   "id": "5f7576d6",
   "metadata": {},
   "outputs": [
    {
     "data": {
      "text/html": [
       "<div>\n",
       "<style scoped>\n",
       "    .dataframe tbody tr th:only-of-type {\n",
       "        vertical-align: middle;\n",
       "    }\n",
       "\n",
       "    .dataframe tbody tr th {\n",
       "        vertical-align: top;\n",
       "    }\n",
       "\n",
       "    .dataframe thead th {\n",
       "        text-align: right;\n",
       "    }\n",
       "</style>\n",
       "<table border=\"1\" class=\"dataframe\">\n",
       "  <thead>\n",
       "    <tr style=\"text-align: right;\">\n",
       "      <th></th>\n",
       "      <th>0</th>\n",
       "    </tr>\n",
       "  </thead>\n",
       "  <tbody>\n",
       "    <tr>\n",
       "      <th>count</th>\n",
       "      <td>100.000000</td>\n",
       "    </tr>\n",
       "    <tr>\n",
       "      <th>mean</th>\n",
       "      <td>-0.063845</td>\n",
       "    </tr>\n",
       "    <tr>\n",
       "      <th>std</th>\n",
       "      <td>0.929410</td>\n",
       "    </tr>\n",
       "    <tr>\n",
       "      <th>min</th>\n",
       "      <td>-2.515887</td>\n",
       "    </tr>\n",
       "    <tr>\n",
       "      <th>25%</th>\n",
       "      <td>-0.608217</td>\n",
       "    </tr>\n",
       "    <tr>\n",
       "      <th>50%</th>\n",
       "      <td>-0.081047</td>\n",
       "    </tr>\n",
       "    <tr>\n",
       "      <th>75%</th>\n",
       "      <td>0.544889</td>\n",
       "    </tr>\n",
       "    <tr>\n",
       "      <th>max</th>\n",
       "      <td>2.358143</td>\n",
       "    </tr>\n",
       "  </tbody>\n",
       "</table>\n",
       "</div>"
      ],
      "text/plain": [
       "                0\n",
       "count  100.000000\n",
       "mean    -0.063845\n",
       "std      0.929410\n",
       "min     -2.515887\n",
       "25%     -0.608217\n",
       "50%     -0.081047\n",
       "75%      0.544889\n",
       "max      2.358143"
      ]
     },
     "execution_count": 4,
     "metadata": {},
     "output_type": "execute_result"
    }
   ],
   "source": [
    "x_df.describe()"
   ]
  },
  {
   "cell_type": "code",
   "execution_count": 6,
   "id": "b15b030d",
   "metadata": {},
   "outputs": [
    {
     "data": {
      "image/png": "[encoded data removed]",
      "text/plain": [
       "<Figure size 432x288 with 1 Axes>"
      ]
     },
     "metadata": {
      "needs_background": "light"
     },
     "output_type": "display_data"
    }
   ],
   "source": [
    "# this is how to check the distribution by histogram\n",
    "plt.hist(x, bins=10)\n",
    "plt.show()\n",
    "# note : i just curious the data distribution look like"
   ]
  },
  {
   "cell_type": "code",
   "execution_count": 5,
   "id": "2d8e2d5f",
   "metadata": {},
   "outputs": [
    {
     "data": {
      "image/png": "[encoded data removed]",
      "text/plain": [
       "<Figure size 432x288 with 1 Axes>"
      ]
     },
     "metadata": {
      "needs_background": "light"
     },
     "output_type": "display_data"
    }
   ],
   "source": [
    "# this is how to plot boxplot in python\n",
    "plt.boxplot(x)\n",
    "plt.show()"
   ]
  },
  {
   "cell_type": "code",
   "execution_count": 8,
   "id": "3d4fccb7",
   "metadata": {},
   "outputs": [
    {
     "data": {
      "text/plain": [
       "array([-1.62955253e+00, -1.03618605e-01, -7.74144178e-01,  8.05875773e-01,\n",
       "        6.11054994e-01,  1.04279980e+00,  6.86123492e-01,  1.01978700e+00,\n",
       "        1.68719691e-01,  1.12729696e+00, -9.81000586e-01,  7.60970764e-01,\n",
       "       -2.49326578e-01,  1.24554261e+00,  2.27469662e-01, -9.73386158e-01,\n",
       "       -1.71182884e+00, -6.83769365e-01,  4.66426032e-01, -1.04270537e+00,\n",
       "        9.43181420e-02, -1.64765189e-01,  1.06002885e+00,  1.04175611e+00,\n",
       "        1.21472361e-01, -2.28541991e+00,  1.74840157e+00,  1.91285063e+00,\n",
       "       -1.94891709e+00, -3.13505617e-01,  1.16062812e+00, -1.13510141e+00,\n",
       "       -1.22640469e+00,  6.35720482e-01,  9.47059563e-01,  1.54555103e+00,\n",
       "        8.20090758e-01, -5.55143673e-01, -6.93875949e-01,  3.18973850e-01,\n",
       "       -2.76676325e-01, -4.41194032e-02,  3.41637980e-02, -1.86415629e+00,\n",
       "       -2.67246566e+00, -3.84849231e-01, -6.99950987e-01,  5.07468625e-01,\n",
       "       -2.93625439e-01, -2.65598044e+00, -1.34300086e+00,  5.25299537e-01,\n",
       "        2.50259210e-01,  1.58182611e+00, -8.44387149e-01,  2.04115488e-01,\n",
       "        9.31394708e-01,  3.56472888e-01, -7.78551255e-01, -1.52212845e+00,\n",
       "       -3.11641064e-01, -3.20580654e-01, -1.29511719e+00,  1.63362442e+00,\n",
       "        6.47178313e-01, -2.71138854e-01,  2.14890728e-01, -1.14489454e+00,\n",
       "        1.54385449e-01, -1.27374131e+00,  7.33332090e-01,  3.02872847e-01,\n",
       "        1.74989340e+00, -1.92276720e-01, -2.08521335e+00,  8.57830303e-01,\n",
       "       -5.21268657e-01,  1.91057276e+00, -1.08614499e+00, -1.27960963e+00,\n",
       "       -2.94662706e-01,  4.52161193e-02, -1.09476500e+00,  6.35367351e-01,\n",
       "       -8.19043682e-01,  6.53284421e-02, -1.17285476e+00,  6.11795046e-01,\n",
       "       -1.37164821e+00, -1.13787919e+00, -1.57521839e+00,  2.54686315e-01,\n",
       "        3.96126663e-01,  3.11767662e-01,  1.76764263e-01,  1.81916049e-01,\n",
       "        1.88293401e-01,  4.50000441e-04,  2.32738327e-01, -5.75400249e-01])"
      ]
     },
     "execution_count": 8,
     "metadata": {},
     "output_type": "execute_result"
    }
   ],
   "source": [
    "y = np.random.normal(0,1,100)\n",
    "y"
   ]
  },
  {
   "cell_type": "code",
   "execution_count": 46,
   "id": "080dbde1",
   "metadata": {},
   "outputs": [
    {
     "data": {
      "image/png": "[encoded data removed]",
      "text/plain": [
       "<Figure size 432x288 with 1 Axes>"
      ]
     },
     "metadata": {
      "needs_background": "light"
     },
     "output_type": "display_data"
    }
   ],
   "source": [
    "# scatter the data\n",
    "plt.scatter(x,y)\n",
    "plt.show()"
   ]
  },
  {
   "cell_type": "code",
   "execution_count": 41,
   "id": "2e48cbc3",
   "metadata": {},
   "outputs": [],
   "source": [
    "# new_df = pd.DataFrame(df_xy_2d, columns = ['y', 'x'])\n",
    "# new_df"
   ]
  },
  {
   "cell_type": "code",
   "execution_count": 44,
   "id": "5b16c72f",
   "metadata": {},
   "outputs": [],
   "source": [
    "# new_df.head(4)"
   ]
  }
 ],
 "metadata": {
  "kernelspec": {
   "display_name": "Python 3",
   "language": "python",
   "name": "python3"
  },
  "language_info": {
   "codemirror_mode": {
    "name": "ipython",
    "version": 3
   },
   "file_extension": ".py",
   "mimetype": "text/x-python",
   "name": "python",
   "nbconvert_exporter": "python",
   "pygments_lexer": "ipython3",
   "version": "3.8.8"
  }
 },
 "nbformat": 4,
 "nbformat_minor": 5
}
