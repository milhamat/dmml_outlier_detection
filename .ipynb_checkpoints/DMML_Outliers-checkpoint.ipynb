{
 "cells": [
  {
   "cell_type": "markdown",
   "id": "94984f0c",
   "metadata": {},
   "source": [
    "## Import and Packages"
   ]
  },
  {
   "cell_type": "code",
   "execution_count": null,
   "id": "2f6f2135",
   "metadata": {},
   "outputs": [],
   "source": [
    "import matplotlib.pyplot as plt\n",
    "import numpy as np\n",
    "\n",
    "%matplotlib inline"
   ]
  },
  {
   "cell_type": "markdown",
   "id": "d5b591e0",
   "metadata": {},
   "source": [
    "## The Codes"
   ]
  },
  {
   "cell_type": "code",
   "execution_count": null,
   "id": "2b4aea80",
   "metadata": {},
   "outputs": [],
   "source": [
    "np.random.seed(3147)\n",
    "np.random.randint(low = 1, high = 10, size = 50))"
   ]
  }
 ],
 "metadata": {
  "kernelspec": {
   "display_name": "Python 3",
   "language": "python",
   "name": "python3"
  },
  "language_info": {
   "codemirror_mode": {
    "name": "ipython",
    "version": 3
   },
   "file_extension": ".py",
   "mimetype": "text/x-python",
   "name": "python",
   "nbconvert_exporter": "python",
   "pygments_lexer": "ipython3",
   "version": "3.8.8"
  }
 },
 "nbformat": 4,
 "nbformat_minor": 5
}
