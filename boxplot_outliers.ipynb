{
 "cells": [
  {
   "cell_type": "markdown",
   "id": "65c45eaa",
   "metadata": {},
   "source": [
    "## Import and Packages"
   ]
  },
  {
   "cell_type": "code",
   "execution_count": 25,
   "id": "fe2061ac",
   "metadata": {},
   "outputs": [],
   "source": [
    "import matplotlib.pyplot as plt\n",
    "import numpy as np\n",
    "import pandas as pd\n",
    "from scipy.stats import iqr\n",
    "\n",
    "%matplotlib inline"
   ]
  },
  {
   "cell_type": "markdown",
   "id": "2e72a797",
   "metadata": {},
   "source": [
    "## The Codes\n",
    " Univariate Outlier Detection by Boxplot"
   ]
  },
  {
   "cell_type": "code",
   "execution_count": 2,
   "id": "1358cda6",
   "metadata": {},
   "outputs": [
    {
     "data": {
      "text/plain": [
       "array([ 0.05470514, -0.24452099,  1.37725856, -0.05892993, -1.06317078,\n",
       "        0.38368964,  0.50385162,  2.17057397, -1.77952318, -0.4344704 ,\n",
       "       -1.11740575,  1.11150183,  0.22128909,  1.05561526, -0.33472879,\n",
       "        0.79941599,  1.10142096,  1.4890497 ,  2.35814318, -1.06854412,\n",
       "       -0.40418227,  0.43028962,  0.08336649, -0.975214  ,  0.09897635,\n",
       "       -0.37081237, -0.12310292, -0.22713113, -1.8414438 ,  0.69699936,\n",
       "       -0.50578669,  0.53956505,  0.67146978,  1.43587096,  0.8069125 ,\n",
       "       -0.07616631, -1.32311973, -0.84148829, -0.29188396, -2.5158868 ,\n",
       "       -0.46474651, -0.06890873,  0.39102757, -1.84692731, -0.4344938 ,\n",
       "       -0.82951434,  0.07913429, -0.60321492, -0.98983963, -1.54805093,\n",
       "        0.10638442, -0.53028062,  1.26266411,  0.36759895, -0.33878234,\n",
       "       -1.07717943,  0.16496599, -0.94133616, -0.93573774,  0.15730007,\n",
       "        1.05259561, -0.12926108,  0.67318885, -1.36638314, -0.33537588,\n",
       "       -0.80856414,  0.89753527,  0.12232877,  0.12109866,  0.08817942,\n",
       "        0.71710997, -0.34194064, -1.50604069,  1.18083672, -0.08592675,\n",
       "       -1.53605651,  0.17581172, -1.22864509, -0.32115727,  1.20265377,\n",
       "        0.0514029 , -0.97544662, -0.62322466, -0.22089815,  0.68934793,\n",
       "       -0.74914861,  0.74136314, -0.2233895 , -0.31336792,  1.91603479,\n",
       "        0.39281589,  0.56086123,  0.63196394, -0.19947647, -0.38543908,\n",
       "        0.49439526, -0.44337144, -1.69674634,  0.15951616,  1.52376659])"
      ]
     },
     "execution_count": 2,
     "metadata": {},
     "output_type": "execute_result"
    }
   ],
   "source": [
    "x = np.random.seed(3147)\n",
    "# x = np.random.randint(low = 1, high = 10, size = 100)\n",
    "x = np.random.normal(0,1,100)\n",
    "x"
   ]
  },
  {
   "cell_type": "code",
   "execution_count": 3,
   "id": "8ea8e7f0",
   "metadata": {},
   "outputs": [
    {
     "data": {
      "text/plain": [
       "numpy.ndarray"
      ]
     },
     "execution_count": 3,
     "metadata": {},
     "output_type": "execute_result"
    }
   ],
   "source": [
    "type(x)"
   ]
  },
  {
   "cell_type": "code",
   "execution_count": 4,
   "id": "5a07e07f",
   "metadata": {},
   "outputs": [
    {
     "data": {
      "text/html": [
       "<div>\n",
       "<style scoped>\n",
       "    .dataframe tbody tr th:only-of-type {\n",
       "        vertical-align: middle;\n",
       "    }\n",
       "\n",
       "    .dataframe tbody tr th {\n",
       "        vertical-align: top;\n",
       "    }\n",
       "\n",
       "    .dataframe thead th {\n",
       "        text-align: right;\n",
       "    }\n",
       "</style>\n",
       "<table border=\"1\" class=\"dataframe\">\n",
       "  <thead>\n",
       "    <tr style=\"text-align: right;\">\n",
       "      <th></th>\n",
       "      <th>0</th>\n",
       "    </tr>\n",
       "  </thead>\n",
       "  <tbody>\n",
       "    <tr>\n",
       "      <th>0</th>\n",
       "      <td>0.054705</td>\n",
       "    </tr>\n",
       "    <tr>\n",
       "      <th>1</th>\n",
       "      <td>-0.244521</td>\n",
       "    </tr>\n",
       "    <tr>\n",
       "      <th>2</th>\n",
       "      <td>1.377259</td>\n",
       "    </tr>\n",
       "    <tr>\n",
       "      <th>3</th>\n",
       "      <td>-0.058930</td>\n",
       "    </tr>\n",
       "    <tr>\n",
       "      <th>4</th>\n",
       "      <td>-1.063171</td>\n",
       "    </tr>\n",
       "  </tbody>\n",
       "</table>\n",
       "</div>"
      ],
      "text/plain": [
       "          0\n",
       "0  0.054705\n",
       "1 -0.244521\n",
       "2  1.377259\n",
       "3 -0.058930\n",
       "4 -1.063171"
      ]
     },
     "execution_count": 4,
     "metadata": {},
     "output_type": "execute_result"
    }
   ],
   "source": [
    "x_df = pd.DataFrame(x)\n",
    "x_df.head()"
   ]
  },
  {
   "cell_type": "code",
   "execution_count": 5,
   "id": "5f7576d6",
   "metadata": {},
   "outputs": [
    {
     "data": {
      "text/html": [
       "<div>\n",
       "<style scoped>\n",
       "    .dataframe tbody tr th:only-of-type {\n",
       "        vertical-align: middle;\n",
       "    }\n",
       "\n",
       "    .dataframe tbody tr th {\n",
       "        vertical-align: top;\n",
       "    }\n",
       "\n",
       "    .dataframe thead th {\n",
       "        text-align: right;\n",
       "    }\n",
       "</style>\n",
       "<table border=\"1\" class=\"dataframe\">\n",
       "  <thead>\n",
       "    <tr style=\"text-align: right;\">\n",
       "      <th></th>\n",
       "      <th>0</th>\n",
       "    </tr>\n",
       "  </thead>\n",
       "  <tbody>\n",
       "    <tr>\n",
       "      <th>count</th>\n",
       "      <td>100.000000</td>\n",
       "    </tr>\n",
       "    <tr>\n",
       "      <th>mean</th>\n",
       "      <td>-0.063845</td>\n",
       "    </tr>\n",
       "    <tr>\n",
       "      <th>std</th>\n",
       "      <td>0.929410</td>\n",
       "    </tr>\n",
       "    <tr>\n",
       "      <th>min</th>\n",
       "      <td>-2.515887</td>\n",
       "    </tr>\n",
       "    <tr>\n",
       "      <th>25%</th>\n",
       "      <td>-0.608217</td>\n",
       "    </tr>\n",
       "    <tr>\n",
       "      <th>50%</th>\n",
       "      <td>-0.081047</td>\n",
       "    </tr>\n",
       "    <tr>\n",
       "      <th>75%</th>\n",
       "      <td>0.544889</td>\n",
       "    </tr>\n",
       "    <tr>\n",
       "      <th>max</th>\n",
       "      <td>2.358143</td>\n",
       "    </tr>\n",
       "  </tbody>\n",
       "</table>\n",
       "</div>"
      ],
      "text/plain": [
       "                0\n",
       "count  100.000000\n",
       "mean    -0.063845\n",
       "std      0.929410\n",
       "min     -2.515887\n",
       "25%     -0.608217\n",
       "50%     -0.081047\n",
       "75%      0.544889\n",
       "max      2.358143"
      ]
     },
     "execution_count": 5,
     "metadata": {},
     "output_type": "execute_result"
    }
   ],
   "source": [
    "x_df.describe()"
   ]
  },
  {
   "cell_type": "code",
   "execution_count": 6,
   "id": "b15b030d",
   "metadata": {},
   "outputs": [
    {
     "data": {
      "image/png": "[encoded data removed]",
      "text/plain": [
       "<Figure size 432x288 with 1 Axes>"
      ]
     },
     "metadata": {
      "needs_background": "light"
     },
     "output_type": "display_data"
    }
   ],
   "source": [
    "# this is how to check the distribution by histogram\n",
    "plt.hist(x, bins=10)\n",
    "plt.show()\n",
    "# note : i just curious the data distribution look like"
   ]
  },
  {
   "cell_type": "code",
   "execution_count": 7,
   "id": "2d8e2d5f",
   "metadata": {},
   "outputs": [
    {
     "data": {
      "image/png": "[encoded data removed]",
      "text/plain": [
       "<Figure size 432x288 with 1 Axes>"
      ]
     },
     "metadata": {
      "needs_background": "light"
     },
     "output_type": "display_data"
    }
   ],
   "source": [
    "# this is how to plot boxplot in python\n",
    "plt.boxplot(x)\n",
    "plt.show()\n",
    "# actually we can see the outliers from 2 above and -2 below "
   ]
  },
  {
   "cell_type": "markdown",
   "id": "9099167e",
   "metadata": {},
   "source": [
    "Boxplot outliers detection applied to bivariate case"
   ]
  },
  {
   "cell_type": "code",
   "execution_count": 8,
   "id": "3d4fccb7",
   "metadata": {},
   "outputs": [
    {
     "data": {
      "text/plain": [
       "array([-0.35222435, -0.50273535,  1.46090369,  0.89961262,  1.46755246,\n",
       "       -0.87940036,  1.35545761, -0.31329389, -1.24623253,  1.04063245,\n",
       "        1.8759739 , -0.09800322, -0.39602408, -1.3816946 , -2.27487102,\n",
       "       -0.3506756 , -0.10051808,  0.24014817, -0.64378743,  0.85720199,\n",
       "       -2.61927691, -2.74988925,  0.54157371, -3.38051588,  0.34994035,\n",
       "        0.52454399, -0.20627923, -0.66062291, -0.55422228,  0.07030905,\n",
       "        1.2137524 ,  0.13293323, -0.24501201,  1.7723198 , -0.50626739,\n",
       "        1.10144449,  0.48871848,  0.14728424, -0.05449983,  1.37290069,\n",
       "       -0.99292036, -0.12779654, -0.18534564,  0.52426436, -0.05680708,\n",
       "       -1.50666622, -3.33692323, -0.48070854, -1.71993595, -0.78867163,\n",
       "        0.08976916,  0.2456217 , -0.39059404,  1.16249111,  0.83830593,\n",
       "       -0.93032439,  0.13807351, -1.16247339, -0.55722603,  1.4791545 ,\n",
       "       -0.13020382, -0.18353558, -0.3854104 , -1.15449185, -0.67371626,\n",
       "       -0.51602167, -0.94214718,  0.68262142,  0.05702586, -1.99748804,\n",
       "        0.37487431,  0.2825011 , -0.33078279, -1.31237137, -0.22196665,\n",
       "       -0.6538348 , -0.36260909,  0.03711672,  0.5093488 ,  1.30430067,\n",
       "        0.35461183,  1.8180042 , -1.44906918, -1.19514177, -1.06909875,\n",
       "       -1.82898431, -0.48364644, -0.17896292, -0.2384382 ,  1.32002359,\n",
       "       -0.94873271,  0.87635797,  0.51924457,  2.05552921,  0.9318552 ,\n",
       "       -0.09329726, -0.25450734,  0.39377975,  1.13789993, -0.80016169])"
      ]
     },
     "execution_count": 8,
     "metadata": {},
     "output_type": "execute_result"
    }
   ],
   "source": [
    "y = np.random.normal(0,1,100)\n",
    "y"
   ]
  },
  {
   "cell_type": "code",
   "execution_count": 9,
   "id": "5564c674",
   "metadata": {},
   "outputs": [
    {
     "data": {
      "text/plain": [
       "numpy.ndarray"
      ]
     },
     "execution_count": 9,
     "metadata": {},
     "output_type": "execute_result"
    }
   ],
   "source": [
    "type(y)"
   ]
  },
  {
   "cell_type": "code",
   "execution_count": 57,
   "id": "34c2ef3e",
   "metadata": {},
   "outputs": [
    {
     "data": {
      "image/png": "[encoded data removed]",
      "text/plain": [
       "<Figure size 432x288 with 1 Axes>"
      ]
     },
     "metadata": {
      "needs_background": "light"
     },
     "output_type": "display_data"
    }
   ],
   "source": [
    "# this is how to check the distribution by histogram\n",
    "plt.hist(y, bins=10)\n",
    "plt.show()\n",
    "# note : i just curious the data distribution look like"
   ]
  },
  {
   "cell_type": "code",
   "execution_count": 53,
   "id": "be903b12",
   "metadata": {},
   "outputs": [
    {
     "data": {
      "image/png": "[encoded data removed]",
      "text/plain": [
       "<Figure size 432x288 with 1 Axes>"
      ]
     },
     "metadata": {
      "needs_background": "light"
     },
     "output_type": "display_data"
    }
   ],
   "source": [
    "plt.boxplot(y)\n",
    "plt.show()\n",
    "# actually we can see the outliers from -2.xx to -3.xx"
   ]
  },
  {
   "cell_type": "code",
   "execution_count": 10,
   "id": "237c2f53",
   "metadata": {},
   "outputs": [
    {
     "data": {
      "text/plain": [
       "0.25   -0.608217\n",
       "0.50   -0.081047\n",
       "0.75    0.544889\n",
       "1.00    2.358143\n",
       "Name: 0, dtype: float64"
      ]
     },
     "execution_count": 10,
     "metadata": {},
     "output_type": "execute_result"
    }
   ],
   "source": [
    "quartiles = pd.DataFrame(x).quantile([0.25, 0.5, 0.75, 1])[0]\n",
    "quartiles\n",
    "# q1, q2, q3, q4 = 0.25, 0.50, 0.75, 1.00"
   ]
  },
  {
   "cell_type": "code",
   "execution_count": 11,
   "id": "5681d675",
   "metadata": {},
   "outputs": [
    {
     "data": {
      "text/plain": [
       "0.25   -0.663896\n",
       "0.50   -0.181249\n",
       "0.75    0.520500\n",
       "1.00    2.055529\n",
       "Name: 0, dtype: float64"
      ]
     },
     "execution_count": 11,
     "metadata": {},
     "output_type": "execute_result"
    }
   ],
   "source": [
    "quartiles = pd.DataFrame(y).quantile([0.25, 0.5, 0.75, 1])[0]\n",
    "quartiles"
   ]
  },
  {
   "cell_type": "code",
   "execution_count": 12,
   "id": "61a57886",
   "metadata": {},
   "outputs": [],
   "source": [
    "x_iqr = iqr(x)\n",
    "y_iqr = iqr(y)\n",
    "# min: q1 - 1.5*iqr\n",
    "# max: q3 + 1.5*iqr\n",
    "# X\n",
    "minimum_outlier_x = -0.608 - 1.5*x_iqr\n",
    "maximum_outlier_x = 0.544 + 1.5*x_iqr\n",
    "# Y\n",
    "minimum_outlier_y = -0.663 - 1.5*x_iqr\n",
    "maximum_outlier_y = 0.520 + 1.5*x_iqr"
   ]
  },
  {
   "cell_type": "code",
   "execution_count": 13,
   "id": "84e7cbfe",
   "metadata": {},
   "outputs": [],
   "source": [
    "def x_outlier(data):\n",
    "    list = []\n",
    "    for dt in data:\n",
    "        if dt > maximum_outlier_x:\n",
    "            list.append(dt)\n",
    "        elif dt < minimum_outlier_x:\n",
    "            list.append(dt)\n",
    "    return list\n",
    "            \n",
    "def y_outlier(data):\n",
    "    list = []\n",
    "    for dt in data:\n",
    "        if dt > maximum_outlier_y:\n",
    "            list.append(dt)\n",
    "        elif dt < minimum_outlier_y:\n",
    "            list.append(dt)\n",
    "    return list"
   ]
  },
  {
   "cell_type": "code",
   "execution_count": 14,
   "id": "f94d0451",
   "metadata": {},
   "outputs": [
    {
     "name": "stdout",
     "output_type": "stream",
     "text": [
      "[2.358143182266013, -2.5158868017189917]\n",
      "[-2.6192769118896795, -2.749889251064438, -3.3805158822608914, -3.336923230258747]\n"
     ]
    }
   ],
   "source": [
    "# checking the value of the outlier\n",
    "x_out = x_outlier(x) \n",
    "print(x_out)\n",
    "y_out = y_outlier(y) \n",
    "print(y_out)\n",
    "# below result are the outliers"
   ]
  },
  {
   "cell_type": "code",
   "execution_count": 15,
   "id": "b8f277bd",
   "metadata": {},
   "outputs": [
    {
     "data": {
      "text/plain": [
       "numpy.ndarray"
      ]
     },
     "execution_count": 15,
     "metadata": {},
     "output_type": "execute_result"
    }
   ],
   "source": [
    "# converting into np array\n",
    "x_out_np = np.asarray(x_out)\n",
    "type(x_out_np)\n",
    "y_out_np = np.asarray(y_out)\n",
    "type(y_out_np)"
   ]
  },
  {
   "cell_type": "code",
   "execution_count": 16,
   "id": "c586d1c1",
   "metadata": {},
   "outputs": [
    {
     "name": "stdout",
     "output_type": "stream",
     "text": [
      "(2,)\n",
      "(4,)\n"
     ]
    }
   ],
   "source": [
    "print(x_out_np.shape)\n",
    "print(y_out_np.shape)"
   ]
  },
  {
   "cell_type": "code",
   "execution_count": 17,
   "id": "3b1a22ce",
   "metadata": {},
   "outputs": [],
   "source": [
    "# making shape same with x_out_np with y_out_np\n",
    "x_out_np = list(x_out_np)\n",
    "x_out_np = x_out_np + [0, 0]\n",
    "# x_out_np"
   ]
  },
  {
   "cell_type": "code",
   "execution_count": 18,
   "id": "50537917",
   "metadata": {},
   "outputs": [
    {
     "data": {
      "text/plain": [
       "array([ 2.35814318, -2.5158868 ,  0.        ,  0.        ])"
      ]
     },
     "execution_count": 18,
     "metadata": {},
     "output_type": "execute_result"
    }
   ],
   "source": [
    "# converting the x_out_np from list to np.ndarray\n",
    "x_out_np = np.asarray(x_out_np)\n",
    "x_out_np"
   ]
  },
  {
   "cell_type": "code",
   "execution_count": 19,
   "id": "2e48cbc3",
   "metadata": {},
   "outputs": [],
   "source": [
    "# making data frame base on column \n",
    "data = {'x' : x, 'y' : y} # column name and the data, ...."
   ]
  },
  {
   "cell_type": "code",
   "execution_count": 20,
   "id": "75e031e8",
   "metadata": {},
   "outputs": [
    {
     "data": {
      "text/html": [
       "<div>\n",
       "<style scoped>\n",
       "    .dataframe tbody tr th:only-of-type {\n",
       "        vertical-align: middle;\n",
       "    }\n",
       "\n",
       "    .dataframe tbody tr th {\n",
       "        vertical-align: top;\n",
       "    }\n",
       "\n",
       "    .dataframe thead th {\n",
       "        text-align: right;\n",
       "    }\n",
       "</style>\n",
       "<table border=\"1\" class=\"dataframe\">\n",
       "  <thead>\n",
       "    <tr style=\"text-align: right;\">\n",
       "      <th></th>\n",
       "      <th>x</th>\n",
       "      <th>y</th>\n",
       "    </tr>\n",
       "  </thead>\n",
       "  <tbody>\n",
       "    <tr>\n",
       "      <th>0</th>\n",
       "      <td>0.054705</td>\n",
       "      <td>-0.352224</td>\n",
       "    </tr>\n",
       "    <tr>\n",
       "      <th>1</th>\n",
       "      <td>-0.244521</td>\n",
       "      <td>-0.502735</td>\n",
       "    </tr>\n",
       "    <tr>\n",
       "      <th>2</th>\n",
       "      <td>1.377259</td>\n",
       "      <td>1.460904</td>\n",
       "    </tr>\n",
       "    <tr>\n",
       "      <th>3</th>\n",
       "      <td>-0.058930</td>\n",
       "      <td>0.899613</td>\n",
       "    </tr>\n",
       "    <tr>\n",
       "      <th>4</th>\n",
       "      <td>-1.063171</td>\n",
       "      <td>1.467552</td>\n",
       "    </tr>\n",
       "    <tr>\n",
       "      <th>...</th>\n",
       "      <td>...</td>\n",
       "      <td>...</td>\n",
       "    </tr>\n",
       "    <tr>\n",
       "      <th>95</th>\n",
       "      <td>0.494395</td>\n",
       "      <td>-0.093297</td>\n",
       "    </tr>\n",
       "    <tr>\n",
       "      <th>96</th>\n",
       "      <td>-0.443371</td>\n",
       "      <td>-0.254507</td>\n",
       "    </tr>\n",
       "    <tr>\n",
       "      <th>97</th>\n",
       "      <td>-1.696746</td>\n",
       "      <td>0.393780</td>\n",
       "    </tr>\n",
       "    <tr>\n",
       "      <th>98</th>\n",
       "      <td>0.159516</td>\n",
       "      <td>1.137900</td>\n",
       "    </tr>\n",
       "    <tr>\n",
       "      <th>99</th>\n",
       "      <td>1.523767</td>\n",
       "      <td>-0.800162</td>\n",
       "    </tr>\n",
       "  </tbody>\n",
       "</table>\n",
       "<p>100 rows × 2 columns</p>\n",
       "</div>"
      ],
      "text/plain": [
       "           x         y\n",
       "0   0.054705 -0.352224\n",
       "1  -0.244521 -0.502735\n",
       "2   1.377259  1.460904\n",
       "3  -0.058930  0.899613\n",
       "4  -1.063171  1.467552\n",
       "..       ...       ...\n",
       "95  0.494395 -0.093297\n",
       "96 -0.443371 -0.254507\n",
       "97 -1.696746  0.393780\n",
       "98  0.159516  1.137900\n",
       "99  1.523767 -0.800162\n",
       "\n",
       "[100 rows x 2 columns]"
      ]
     },
     "execution_count": 20,
     "metadata": {},
     "output_type": "execute_result"
    }
   ],
   "source": [
    "new_df = pd.DataFrame(data)\n",
    "new_df"
   ]
  },
  {
   "cell_type": "code",
   "execution_count": 21,
   "id": "f2a27a07",
   "metadata": {},
   "outputs": [
    {
     "data": {
      "text/html": [
       "<div>\n",
       "<style scoped>\n",
       "    .dataframe tbody tr th:only-of-type {\n",
       "        vertical-align: middle;\n",
       "    }\n",
       "\n",
       "    .dataframe tbody tr th {\n",
       "        vertical-align: top;\n",
       "    }\n",
       "\n",
       "    .dataframe thead th {\n",
       "        text-align: right;\n",
       "    }\n",
       "</style>\n",
       "<table border=\"1\" class=\"dataframe\">\n",
       "  <thead>\n",
       "    <tr style=\"text-align: right;\">\n",
       "      <th></th>\n",
       "      <th>x</th>\n",
       "      <th>y</th>\n",
       "    </tr>\n",
       "  </thead>\n",
       "  <tbody>\n",
       "    <tr>\n",
       "      <th>count</th>\n",
       "      <td>100.000000</td>\n",
       "      <td>100.000000</td>\n",
       "    </tr>\n",
       "    <tr>\n",
       "      <th>mean</th>\n",
       "      <td>-0.063845</td>\n",
       "      <td>-0.151111</td>\n",
       "    </tr>\n",
       "    <tr>\n",
       "      <th>std</th>\n",
       "      <td>0.929410</td>\n",
       "      <td>1.085983</td>\n",
       "    </tr>\n",
       "    <tr>\n",
       "      <th>min</th>\n",
       "      <td>-2.515887</td>\n",
       "      <td>-3.380516</td>\n",
       "    </tr>\n",
       "    <tr>\n",
       "      <th>25%</th>\n",
       "      <td>-0.608217</td>\n",
       "      <td>-0.663896</td>\n",
       "    </tr>\n",
       "    <tr>\n",
       "      <th>50%</th>\n",
       "      <td>-0.081047</td>\n",
       "      <td>-0.181249</td>\n",
       "    </tr>\n",
       "    <tr>\n",
       "      <th>75%</th>\n",
       "      <td>0.544889</td>\n",
       "      <td>0.520500</td>\n",
       "    </tr>\n",
       "    <tr>\n",
       "      <th>max</th>\n",
       "      <td>2.358143</td>\n",
       "      <td>2.055529</td>\n",
       "    </tr>\n",
       "  </tbody>\n",
       "</table>\n",
       "</div>"
      ],
      "text/plain": [
       "                x           y\n",
       "count  100.000000  100.000000\n",
       "mean    -0.063845   -0.151111\n",
       "std      0.929410    1.085983\n",
       "min     -2.515887   -3.380516\n",
       "25%     -0.608217   -0.663896\n",
       "50%     -0.081047   -0.181249\n",
       "75%      0.544889    0.520500\n",
       "max      2.358143    2.055529"
      ]
     },
     "execution_count": 21,
     "metadata": {},
     "output_type": "execute_result"
    }
   ],
   "source": [
    "new_df.describe()"
   ]
  },
  {
   "cell_type": "code",
   "execution_count": 38,
   "id": "080dbde1",
   "metadata": {},
   "outputs": [
    {
     "data": {
      "image/png": "[encoded data removed]",
      "text/plain": [
       "<Figure size 432x288 with 1 Axes>"
      ]
     },
     "metadata": {
      "needs_background": "light"
     },
     "output_type": "display_data"
    }
   ],
   "source": [
    "# scatter the data\n",
    "plt.scatter(x, y, alpha=0.5)\n",
    "plt.xlabel('x')\n",
    "plt.ylabel('y')\n",
    "plt.show()"
   ]
  },
  {
   "cell_type": "code",
   "execution_count": 37,
   "id": "5b16c72f",
   "metadata": {},
   "outputs": [
    {
     "data": {
      "image/png": "[encoded data removed]",
      "text/plain": [
       "<Figure size 432x288 with 1 Axes>"
      ]
     },
     "metadata": {
      "needs_background": "light"
     },
     "output_type": "display_data"
    }
   ],
   "source": [
    "# experimental base on the formula\n",
    "plt.scatter(x, y, alpha=0.5)\n",
    "plt.scatter(x_out_np, y_out_np, alpha=0.2, c='red')\n",
    "plt.xlabel('x')\n",
    "plt.ylabel('y')\n",
    "plt.show()"
   ]
  },
  {
   "cell_type": "markdown",
   "id": "c11dd353",
   "metadata": {},
   "source": [
    "## experiments"
   ]
  },
  {
   "cell_type": "markdown",
   "id": "6c0f8ba5",
   "metadata": {},
   "source": [
    "experimenting with other method"
   ]
  },
  {
   "cell_type": "code",
   "execution_count": 43,
   "id": "d0759863",
   "metadata": {},
   "outputs": [],
   "source": [
    "def estimate_gaussian(dataset,mu,std):\n",
    "    mean = mu\n",
    "    sigma = std\n",
    "    limit = sigma * 1.5\n",
    "    \n",
    "    min_threshold = mean - limit\n",
    "    max_threshold = mean + limit\n",
    "    \n",
    "    return max_threshold, min_threshold"
   ]
  },
  {
   "cell_type": "code",
   "execution_count": 44,
   "id": "ebddd931",
   "metadata": {},
   "outputs": [
    {
     "data": {
      "text/plain": [
       "(1.33027, -1.45796)"
      ]
     },
     "execution_count": 44,
     "metadata": {},
     "output_type": "execute_result"
    }
   ],
   "source": [
    "mean_x = -0.063845\n",
    "sigma_x = 0.929410\n",
    "x_tresh = estimate_gaussian(x, mean_x, sigma_x)\n",
    "x_tresh"
   ]
  },
  {
   "cell_type": "code",
   "execution_count": 45,
   "id": "40a8f4fd",
   "metadata": {},
   "outputs": [
    {
     "data": {
      "text/plain": [
       "(1.4778635, -1.7800855)"
      ]
     },
     "execution_count": 45,
     "metadata": {},
     "output_type": "execute_result"
    }
   ],
   "source": [
    "mean_y = -0.151111\n",
    "sigma_y = 1.085983\n",
    "y_tresh = estimate_gaussian(y, mean_y, sigma_y)\n",
    "y_tresh"
   ]
  },
  {
   "cell_type": "code",
   "execution_count": 51,
   "id": "77cf5caf",
   "metadata": {},
   "outputs": [],
   "source": [
    "x_np = np.asarray(x_tresh)\n",
    "# print(type(x_np))\n",
    "y_np = np.asarray(y_tresh)\n",
    "# print(y_np.shape)"
   ]
  },
  {
   "cell_type": "code",
   "execution_count": 52,
   "id": "08bfe0e7",
   "metadata": {},
   "outputs": [
    {
     "data": {
      "image/png": "[encoded data removed]",
      "text/plain": [
       "<Figure size 432x288 with 1 Axes>"
      ]
     },
     "metadata": {
      "needs_background": "light"
     },
     "output_type": "display_data"
    }
   ],
   "source": [
    "# experimental base on the formula\n",
    "plt.scatter(x, y, alpha=0.5)\n",
    "plt.scatter(x_np, y_np, alpha=0.2, c='red')\n",
    "plt.xlabel('x')\n",
    "plt.ylabel('y')\n",
    "plt.show()"
   ]
  },
  {
   "cell_type": "code",
   "execution_count": 32,
   "id": "78673076",
   "metadata": {},
   "outputs": [
    {
     "name": "stdout",
     "output_type": "stream",
     "text": [
      "(10, 1)\n",
      "(100, 2)\n",
      "(4,)\n"
     ]
    }
   ],
   "source": [
    "print(df.shape)\n",
    "print(new_df.shape)\n",
    "print(x_out_np.shape)"
   ]
  }
 ],
 "metadata": {
  "kernelspec": {
   "display_name": "Python 3",
   "language": "python",
   "name": "python3"
  },
  "language_info": {
   "codemirror_mode": {
    "name": "ipython",
    "version": 3
   },
   "file_extension": ".py",
   "mimetype": "text/x-python",
   "name": "python",
   "nbconvert_exporter": "python",
   "pygments_lexer": "ipython3",
   "version": "3.8.8"
  }
 },
 "nbformat": 4,
 "nbformat_minor": 5
}
